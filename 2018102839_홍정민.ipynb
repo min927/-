{
 "cells": [
  {
   "cell_type": "markdown",
   "metadata": {},
   "source": [
    "# SWCON104 Web/Python Programming 2020-1 Midterm Assignment\n"
   ]
  },
  {
   "cell_type": "markdown",
   "metadata": {},
   "source": [
    "- File Name: StudentID_YourName.ipynb (Ex: 1234567890_홍길동.ipynb) <Br>\n",
    "- Submission Due: 2020/05/04 23:50 <br>"
   ]
  },
  {
   "cell_type": "markdown",
   "metadata": {},
   "source": [
    "Answer for Question.1"
   ]
  },
  {
   "cell_type": "code",
   "execution_count": 18,
   "metadata": {},
   "outputs": [
    {
     "name": "stdout",
     "output_type": "stream",
     "text": [
      "120\n"
     ]
    }
   ],
   "source": [
    "# Start of Answer\n",
    "import math\n",
    "def CalcFactorial(inputNum):\n",
    "    if str(type(inputNum)) != \"<class 'int'>\":\n",
    "        return -1\n",
    "    elif inputNum <= 0:\n",
    "        return -2\n",
    "    else:\n",
    "        return math.factorial(inputNum)\n",
    "        \n",
    "# End of Answer\n",
    "\n",
    "# Below is Execution Example, and can be removed.\n",
    "\n",
    "print(CalcFactorial(5))"
   ]
  },
  {
   "cell_type": "markdown",
   "metadata": {},
   "source": [
    "Answer for Question.2"
   ]
  },
  {
   "cell_type": "code",
   "execution_count": null,
   "metadata": {},
   "outputs": [],
   "source": [
    "caseTypes = [\"scissor\", \"rock\", \"paper\"]\n",
    "\n",
    "# Start of Answer\n",
    "import random\n",
    "def GenerateRandomCaseForComputer():\n",
    "    return random.choice(caseTypes)\n",
    "\n",
    "def MakeDecision(valueUser, valueComputer):\n",
    "    if valueUser in caseTypes and valueComputer in caseTypes:\n",
    "        if valueUser == \"scissor\":\n",
    "            if valueComputer ==\"scissor\":\n",
    "                return \"Tie\"\n",
    "            elif valueComputer ==\"rock\":\n",
    "                return \"Computer\"\n",
    "            else:\n",
    "                return \"User\"\n",
    "            \n",
    "        elif valueUser == \"rock\":\n",
    "            if valueComputer ==\"scissor\":\n",
    "                return \"User\"\n",
    "            elif valueComputer ==\"rock\":\n",
    "                return \"Tie\"\n",
    "            else:\n",
    "                return \"Computer\"\n",
    "        else:\n",
    "            if valueComputer ==\"scissor\":\n",
    "                return \"Computer\"\n",
    "            elif valueComputer ==\"rock\":\n",
    "                return \"User\"\n",
    "            else:\n",
    "                return \"Tie\"\n",
    "    else:\n",
    "        return -1\n",
    "\n",
    "userInput = 0\n",
    "while True:\n",
    "    userInput = int(input(\"\\nMenu: \\n[0] scissor, \\n[1] rock, \\n[2] paper, \\n[3] quit \\n\\nSelect: \"))\n",
    "    if(userInput != 3):\n",
    "        if userInput in range(4):\n",
    "            valueUser = caseTypes[userInput]\n",
    "            valueComputer = GenerateRandomCaseForComputer()\n",
    "            valueDecision = MakeDecision(valueUser, valueComputer)\n",
    "            print(\"\\nResult: User [{0}] vs Computer [{1}] -> Winner is {2}\".format(valueUser, valueComputer, valueDecision))\n",
    "        else:\n",
    "            valueUser = userInput\n",
    "            valueComputer = GenerateRandomCaseForComputer()\n",
    "            valueDecision = MakeDecision(valueUser, valueComputer)\n",
    "            print(\"\\nResult: User [{0}] vs Computer [{1}] -> Winner is {2}\".format(valueUser, valueComputer, valueDecision))\n",
    "            \n",
    "    else:\n",
    "        break\n",
    "\n",
    "# End of Answer\n",
    "\n",
    "# Below is Execution Example, and can be removed."
   ]
  },
  {
   "cell_type": "markdown",
   "metadata": {},
   "source": [
    "Answer for Question.3"
   ]
  },
  {
   "cell_type": "code",
   "execution_count": 112,
   "metadata": {},
   "outputs": [],
   "source": [
    "def isPrime(num, L):\n",
    "    count = 0\n",
    "    for i in range(1,num+1):\n",
    "        if num%i == 0:\n",
    "            L.append(i)\n",
    "            if i != 1 and i != num:\n",
    "                count = count+1\n",
    "                \n",
    "    if count == 0:\n",
    "        ans = True\n",
    "        return ans\n",
    "    \n",
    "    else:\n",
    "        ans = False\n",
    "        return \"{}\\n{}\".format(L,ans)\n",
    "    # Implement the function here\n",
    "    # If syntax error occurs, no point will be given for this function\n",
    "    # Do not change the function header"
   ]
  },
  {
   "cell_type": "code",
   "execution_count": 113,
   "metadata": {},
   "outputs": [
    {
     "name": "stdout",
     "output_type": "stream",
     "text": [
      "[1, 2, 4, 8]\n",
      "False\n"
     ]
    }
   ],
   "source": [
    "ans = isPrime(8,[])  # This cell is for your confirmation, can be removed.\n",
    "print(ans)           # If correctly implemented, [1,2,4,8] is printed first, and False is printed at the next line."
   ]
  },
  {
   "cell_type": "markdown",
   "metadata": {},
   "source": [
    "Answer for Question.4"
   ]
  },
  {
   "cell_type": "code",
   "execution_count": 1,
   "metadata": {},
   "outputs": [],
   "source": [
    "def getResult(status):\n",
    "    count = status.count('_')\n",
    "    if count == 0:\n",
    "        return 'You win'\n",
    "    else:\n",
    "        return 'You lose'\n",
    "    # Implement the function here.\n",
    "    # If syntax error occurs, no point will be given for this function\n",
    "    # Do not change the function header"
   ]
  },
  {
   "cell_type": "code",
   "execution_count": 2,
   "metadata": {},
   "outputs": [],
   "source": [
    "def updateStatus(word, x, status):\n",
    "    countX = word.count(x)\n",
    "    if countX == 0:\n",
    "        new_status = status\n",
    "        return new_status\n",
    "    elif countX > 0:\n",
    "        index = 0\n",
    "        s= 0\n",
    "        Status_L = list(status)\n",
    "        Word_L = list(word)\n",
    "        for i in range(len(Word_L)):\n",
    "            if Word_L[i] == x:\n",
    "                Status_L[i] = x\n",
    "        new_status = ''.join(Status_L)\n",
    "        return new_status\n",
    "\n",
    "    # Implement the function here.\n",
    "    # If syntax error occurs, no point will be given for this function\n",
    "    # Do not change the function header\n",
    "    # Hint: use str.count() and str.find(). Not mendatory."
   ]
  },
  {
   "cell_type": "code",
   "execution_count": 3,
   "metadata": {},
   "outputs": [],
   "source": [
    "def startGame(word):\n",
    "    count = len(word)\n",
    "    status = '_'* count\n",
    "    while count > 0:\n",
    "        if '_' in status:\n",
    "            text = \"{}\\n{} chances. Enter a letter: \".format(status,count)\n",
    "            x = input(text)\n",
    "            status = updateStatus(word,x,status)\n",
    "            count = count-1\n",
    "        else: \n",
    "            count = count-1\n",
    "            break\n",
    "    print(status)\n",
    "    return getResult(status)\n",
    "\n",
    "    # Implement the function here.\n",
    "    # If syntax error occurs, no point will be given for this function\n",
    "    # Do not change the function header\n",
    "    # Hint: use input() inside while-loop."
   ]
  },
  {
   "cell_type": "code",
   "execution_count": 8,
   "metadata": {},
   "outputs": [
    {
     "name": "stdout",
     "output_type": "stream",
     "text": [
      "____________\n",
      "12 chances. Enter a letter: A\n",
      "________A___\n",
      "11 chances. Enter a letter: E\n",
      "________A___\n",
      "10 chances. Enter a letter: I\n",
      "_I______A___\n",
      "9 chances. Enter a letter: O\n",
      "_I__O_O_A___\n",
      "8 chances. Enter a letter: U\n",
      "_I__O_O_A_U_\n",
      "7 chances. Enter a letter: S\n",
      "_I__O_O_A_US\n",
      "6 chances. Enter a letter: H\n",
      "HI__O_O_A_US\n",
      "5 chances. Enter a letter: P\n",
      "HIPPOPO_A_US\n",
      "4 chances. Enter a letter: T\n",
      "HIPPOPOTA_US\n",
      "3 chances. Enter a letter: M\n",
      "HIPPOPOTAMUS\n",
      "You win\n"
     ]
    }
   ],
   "source": [
    "word = 'HIPPOPOTAMUS'    # This cell is for your confirmation, can be removed.\n",
    "result = startGame(word) # If correctly implemented, the result should be \n",
    "print(result)            # as the program execution example figure in your question sheet."
   ]
  },
  {
   "cell_type": "code",
   "execution_count": null,
   "metadata": {},
   "outputs": [],
   "source": []
  }
 ],
 "metadata": {
  "kernelspec": {
   "display_name": "Python 3",
   "language": "python",
   "name": "python3"
  },
  "language_info": {
   "codemirror_mode": {
    "name": "ipython",
    "version": 3
   },
   "file_extension": ".py",
   "mimetype": "text/x-python",
   "name": "python",
   "nbconvert_exporter": "python",
   "pygments_lexer": "ipython3",
   "version": "3.7.6"
  }
 },
 "nbformat": 4,
 "nbformat_minor": 2
}
